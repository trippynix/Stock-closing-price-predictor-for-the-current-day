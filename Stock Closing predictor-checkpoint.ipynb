{
 "cells": [
  {
   "cell_type": "code",
   "execution_count": 2,
   "id": "bb777dad",
   "metadata": {},
   "outputs": [],
   "source": [
    "#importing necessary libraries to perform operations\n",
    "import pandas as pd\n",
    "import yfinance as yf\n",
    "import matplotlib.pyplot as plt\n",
    "import numpy as np\n",
    "from sklearn import metrics \n",
    "from sklearn.tree import DecisionTreeClassifier \n",
    "from sklearn.svm import SVR\n",
    "from sklearn.model_selection import train_test_split\n",
    "from sklearn.preprocessing import StandardScaler\n",
    "from sklearn.metrics import accuracy_score\n",
    "from sklearn.linear_model import LinearRegression\n",
    "from sklearn.ensemble import RandomForestRegressor\n",
    "from sklearn.preprocessing import MinMaxScaler\n",
    "from sklearn.metrics import mean_squared_error"
   ]
  },
  {
   "cell_type": "code",
   "execution_count": 24,
   "id": "dbbb7b87",
   "metadata": {},
   "outputs": [
    {
     "name": "stderr",
     "output_type": "stream",
     "text": [
      "[*********************100%%**********************]  1 of 1 completed\n"
     ]
    }
   ],
   "source": [
    "#initializing ticker and storing the csv file inside data named variable\n",
    "ticker = 'RELIANCE'\n",
    "data = yf.download('^NSEBANK')"
   ]
  },
  {
   "cell_type": "code",
   "execution_count": 61,
   "id": "350381c0",
   "metadata": {},
   "outputs": [
    {
     "data": {
      "text/html": [
       "<div>\n",
       "<style scoped>\n",
       "    .dataframe tbody tr th:only-of-type {\n",
       "        vertical-align: middle;\n",
       "    }\n",
       "\n",
       "    .dataframe tbody tr th {\n",
       "        vertical-align: top;\n",
       "    }\n",
       "\n",
       "    .dataframe thead th {\n",
       "        text-align: right;\n",
       "    }\n",
       "</style>\n",
       "<table border=\"1\" class=\"dataframe\">\n",
       "  <thead>\n",
       "    <tr style=\"text-align: right;\">\n",
       "      <th></th>\n",
       "      <th>Open</th>\n",
       "      <th>High</th>\n",
       "      <th>Low</th>\n",
       "      <th>Close</th>\n",
       "      <th>Adj Close</th>\n",
       "      <th>Volume</th>\n",
       "    </tr>\n",
       "    <tr>\n",
       "      <th>Date</th>\n",
       "      <th></th>\n",
       "      <th></th>\n",
       "      <th></th>\n",
       "      <th></th>\n",
       "      <th></th>\n",
       "      <th></th>\n",
       "    </tr>\n",
       "  </thead>\n",
       "  <tbody>\n",
       "    <tr>\n",
       "      <th>2007-09-17</th>\n",
       "      <td>6898.000000</td>\n",
       "      <td>6977.200195</td>\n",
       "      <td>6843.000000</td>\n",
       "      <td>6897.100098</td>\n",
       "      <td>6897.020020</td>\n",
       "      <td>0</td>\n",
       "    </tr>\n",
       "    <tr>\n",
       "      <th>2007-09-18</th>\n",
       "      <td>6921.149902</td>\n",
       "      <td>7078.950195</td>\n",
       "      <td>6883.600098</td>\n",
       "      <td>7059.649902</td>\n",
       "      <td>7059.567871</td>\n",
       "      <td>0</td>\n",
       "    </tr>\n",
       "    <tr>\n",
       "      <th>2007-09-19</th>\n",
       "      <td>7111.000000</td>\n",
       "      <td>7419.350098</td>\n",
       "      <td>7111.000000</td>\n",
       "      <td>7401.850098</td>\n",
       "      <td>7401.764160</td>\n",
       "      <td>0</td>\n",
       "    </tr>\n",
       "    <tr>\n",
       "      <th>2007-09-20</th>\n",
       "      <td>7404.950195</td>\n",
       "      <td>7462.899902</td>\n",
       "      <td>7343.600098</td>\n",
       "      <td>7390.149902</td>\n",
       "      <td>7390.063965</td>\n",
       "      <td>0</td>\n",
       "    </tr>\n",
       "    <tr>\n",
       "      <th>2007-09-21</th>\n",
       "      <td>7378.299805</td>\n",
       "      <td>7506.350098</td>\n",
       "      <td>7367.149902</td>\n",
       "      <td>7464.500000</td>\n",
       "      <td>7464.413086</td>\n",
       "      <td>0</td>\n",
       "    </tr>\n",
       "    <tr>\n",
       "      <th>...</th>\n",
       "      <td>...</td>\n",
       "      <td>...</td>\n",
       "      <td>...</td>\n",
       "      <td>...</td>\n",
       "      <td>...</td>\n",
       "      <td>...</td>\n",
       "    </tr>\n",
       "    <tr>\n",
       "      <th>2024-04-09</th>\n",
       "      <td>48810.800781</td>\n",
       "      <td>48960.750000</td>\n",
       "      <td>48568.250000</td>\n",
       "      <td>48730.550781</td>\n",
       "      <td>48730.550781</td>\n",
       "      <td>147600</td>\n",
       "    </tr>\n",
       "    <tr>\n",
       "      <th>2024-04-10</th>\n",
       "      <td>48879.550781</td>\n",
       "      <td>49057.398438</td>\n",
       "      <td>48669.250000</td>\n",
       "      <td>48986.601562</td>\n",
       "      <td>48986.601562</td>\n",
       "      <td>247100</td>\n",
       "    </tr>\n",
       "    <tr>\n",
       "      <th>2024-04-12</th>\n",
       "      <td>48671.199219</td>\n",
       "      <td>48882.648438</td>\n",
       "      <td>48477.550781</td>\n",
       "      <td>48564.550781</td>\n",
       "      <td>48564.550781</td>\n",
       "      <td>208000</td>\n",
       "    </tr>\n",
       "    <tr>\n",
       "      <th>2024-04-15</th>\n",
       "      <td>48057.500000</td>\n",
       "      <td>48255.500000</td>\n",
       "      <td>47725.800781</td>\n",
       "      <td>47773.250000</td>\n",
       "      <td>47773.250000</td>\n",
       "      <td>197100</td>\n",
       "    </tr>\n",
       "    <tr>\n",
       "      <th>2024-04-16</th>\n",
       "      <td>47436.699219</td>\n",
       "      <td>47609.000000</td>\n",
       "      <td>47316.550781</td>\n",
       "      <td>47484.800781</td>\n",
       "      <td>47484.800781</td>\n",
       "      <td>0</td>\n",
       "    </tr>\n",
       "  </tbody>\n",
       "</table>\n",
       "<p>3790 rows × 6 columns</p>\n",
       "</div>"
      ],
      "text/plain": [
       "                    Open          High           Low         Close  \\\n",
       "Date                                                                 \n",
       "2007-09-17   6898.000000   6977.200195   6843.000000   6897.100098   \n",
       "2007-09-18   6921.149902   7078.950195   6883.600098   7059.649902   \n",
       "2007-09-19   7111.000000   7419.350098   7111.000000   7401.850098   \n",
       "2007-09-20   7404.950195   7462.899902   7343.600098   7390.149902   \n",
       "2007-09-21   7378.299805   7506.350098   7367.149902   7464.500000   \n",
       "...                  ...           ...           ...           ...   \n",
       "2024-04-09  48810.800781  48960.750000  48568.250000  48730.550781   \n",
       "2024-04-10  48879.550781  49057.398438  48669.250000  48986.601562   \n",
       "2024-04-12  48671.199219  48882.648438  48477.550781  48564.550781   \n",
       "2024-04-15  48057.500000  48255.500000  47725.800781  47773.250000   \n",
       "2024-04-16  47436.699219  47609.000000  47316.550781  47484.800781   \n",
       "\n",
       "               Adj Close  Volume  \n",
       "Date                              \n",
       "2007-09-17   6897.020020       0  \n",
       "2007-09-18   7059.567871       0  \n",
       "2007-09-19   7401.764160       0  \n",
       "2007-09-20   7390.063965       0  \n",
       "2007-09-21   7464.413086       0  \n",
       "...                  ...     ...  \n",
       "2024-04-09  48730.550781  147600  \n",
       "2024-04-10  48986.601562  247100  \n",
       "2024-04-12  48564.550781  208000  \n",
       "2024-04-15  47773.250000  197100  \n",
       "2024-04-16  47484.800781       0  \n",
       "\n",
       "[3790 rows x 6 columns]"
      ]
     },
     "execution_count": 61,
     "metadata": {},
     "output_type": "execute_result"
    }
   ],
   "source": [
    "data"
   ]
  },
  {
   "cell_type": "code",
   "execution_count": 62,
   "id": "095771b9",
   "metadata": {},
   "outputs": [],
   "source": [
    "#optional step to save the downloaded data as csv on the system\n",
    "#data.to_csv(f'{ticker}.csv')"
   ]
  },
  {
   "cell_type": "code",
   "execution_count": 63,
   "id": "3c12b70e",
   "metadata": {},
   "outputs": [
    {
     "data": {
      "text/plain": [
       "Open         0\n",
       "High         0\n",
       "Low          0\n",
       "Close        0\n",
       "Adj Close    0\n",
       "Volume       0\n",
       "dtype: int64"
      ]
     },
     "execution_count": 63,
     "metadata": {},
     "output_type": "execute_result"
    }
   ],
   "source": [
    "#checking if there's any row with NA/NAN info\n",
    "data.isna().sum()"
   ]
  },
  {
   "cell_type": "code",
   "execution_count": 64,
   "id": "399949a8",
   "metadata": {},
   "outputs": [
    {
     "data": {
      "text/html": [
       "<div>\n",
       "<style scoped>\n",
       "    .dataframe tbody tr th:only-of-type {\n",
       "        vertical-align: middle;\n",
       "    }\n",
       "\n",
       "    .dataframe tbody tr th {\n",
       "        vertical-align: top;\n",
       "    }\n",
       "\n",
       "    .dataframe thead th {\n",
       "        text-align: right;\n",
       "    }\n",
       "</style>\n",
       "<table border=\"1\" class=\"dataframe\">\n",
       "  <thead>\n",
       "    <tr style=\"text-align: right;\">\n",
       "      <th></th>\n",
       "      <th>Open</th>\n",
       "      <th>High</th>\n",
       "      <th>Low</th>\n",
       "      <th>Close</th>\n",
       "      <th>Adj Close</th>\n",
       "      <th>Volume</th>\n",
       "    </tr>\n",
       "  </thead>\n",
       "  <tbody>\n",
       "    <tr>\n",
       "      <th>Open</th>\n",
       "      <td>1.000000</td>\n",
       "      <td>0.999886</td>\n",
       "      <td>0.999865</td>\n",
       "      <td>0.999756</td>\n",
       "      <td>0.999756</td>\n",
       "      <td>0.035331</td>\n",
       "    </tr>\n",
       "    <tr>\n",
       "      <th>High</th>\n",
       "      <td>0.999886</td>\n",
       "      <td>1.000000</td>\n",
       "      <td>0.999810</td>\n",
       "      <td>0.999887</td>\n",
       "      <td>0.999887</td>\n",
       "      <td>0.035424</td>\n",
       "    </tr>\n",
       "    <tr>\n",
       "      <th>Low</th>\n",
       "      <td>0.999865</td>\n",
       "      <td>0.999810</td>\n",
       "      <td>1.000000</td>\n",
       "      <td>0.999882</td>\n",
       "      <td>0.999882</td>\n",
       "      <td>0.035707</td>\n",
       "    </tr>\n",
       "    <tr>\n",
       "      <th>Close</th>\n",
       "      <td>0.999756</td>\n",
       "      <td>0.999887</td>\n",
       "      <td>0.999882</td>\n",
       "      <td>1.000000</td>\n",
       "      <td>1.000000</td>\n",
       "      <td>0.035591</td>\n",
       "    </tr>\n",
       "    <tr>\n",
       "      <th>Adj Close</th>\n",
       "      <td>0.999756</td>\n",
       "      <td>0.999887</td>\n",
       "      <td>0.999882</td>\n",
       "      <td>1.000000</td>\n",
       "      <td>1.000000</td>\n",
       "      <td>0.035592</td>\n",
       "    </tr>\n",
       "    <tr>\n",
       "      <th>Volume</th>\n",
       "      <td>0.035331</td>\n",
       "      <td>0.035424</td>\n",
       "      <td>0.035707</td>\n",
       "      <td>0.035591</td>\n",
       "      <td>0.035592</td>\n",
       "      <td>1.000000</td>\n",
       "    </tr>\n",
       "  </tbody>\n",
       "</table>\n",
       "</div>"
      ],
      "text/plain": [
       "               Open      High       Low     Close  Adj Close    Volume\n",
       "Open       1.000000  0.999886  0.999865  0.999756   0.999756  0.035331\n",
       "High       0.999886  1.000000  0.999810  0.999887   0.999887  0.035424\n",
       "Low        0.999865  0.999810  1.000000  0.999882   0.999882  0.035707\n",
       "Close      0.999756  0.999887  0.999882  1.000000   1.000000  0.035591\n",
       "Adj Close  0.999756  0.999887  0.999882  1.000000   1.000000  0.035592\n",
       "Volume     0.035331  0.035424  0.035707  0.035591   0.035592  1.000000"
      ]
     },
     "execution_count": 64,
     "metadata": {},
     "output_type": "execute_result"
    }
   ],
   "source": [
    "data.corr()"
   ]
  },
  {
   "cell_type": "code",
   "execution_count": 65,
   "id": "6e54b717",
   "metadata": {},
   "outputs": [
    {
     "data": {
      "text/plain": [
       "[<matplotlib.lines.Line2D at 0x16e768b91d0>]"
      ]
     },
     "execution_count": 65,
     "metadata": {},
     "output_type": "execute_result"
    },
    {
     "data": {
      "image/png": "[encoded data removed]",
      "text/plain": [
       "<Figure size 640x480 with 1 Axes>"
      ]
     },
     "metadata": {},
     "output_type": "display_data"
    }
   ],
   "source": [
    "plt.plot(data.Open, data.High)\n"
   ]
  },
  {
   "cell_type": "code",
   "execution_count": 66,
   "id": "614276a3",
   "metadata": {},
   "outputs": [
    {
     "data": {
      "text/plain": [
       "[<matplotlib.lines.Line2D at 0x16e77904250>]"
      ]
     },
     "execution_count": 66,
     "metadata": {},
     "output_type": "execute_result"
    },
    {
     "data": {
      "image/png": "[encoded data removed]",
      "text/plain": [
       "<Figure size 640x480 with 1 Axes>"
      ]
     },
     "metadata": {},
     "output_type": "display_data"
    }
   ],
   "source": [
    "plt.plot(data.Open, data.Low)"
   ]
  },
  {
   "cell_type": "code",
   "execution_count": 67,
   "id": "9327e8bd",
   "metadata": {},
   "outputs": [
    {
     "data": {
      "text/plain": [
       "[<matplotlib.lines.Line2D at 0x16e779bb010>]"
      ]
     },
     "execution_count": 67,
     "metadata": {},
     "output_type": "execute_result"
    },
    {
     "data": {
      "image/png": "[encoded data removed]",
      "text/plain": [
       "<Figure size 640x480 with 1 Axes>"
      ]
     },
     "metadata": {},
     "output_type": "display_data"
    }
   ],
   "source": [
    "plt.plot(data.Open, data['Adj Close'])\n"
   ]
  },
  {
   "cell_type": "code",
   "execution_count": 68,
   "id": "b28be9ac",
   "metadata": {},
   "outputs": [
    {
     "data": {
      "text/plain": [
       "[<matplotlib.lines.Line2D at 0x16e7685d650>]"
      ]
     },
     "execution_count": 68,
     "metadata": {},
     "output_type": "execute_result"
    },
    {
     "data": {
      "image/png": "[encoded data removed]",
      "text/plain": [
       "<Figure size 640x480 with 1 Axes>"
      ]
     },
     "metadata": {},
     "output_type": "display_data"
    }
   ],
   "source": [
    "plt.plot(data.Open, data.Volume)"
   ]
  },
  {
   "cell_type": "code",
   "execution_count": 125,
   "id": "7b48e202",
   "metadata": {},
   "outputs": [],
   "source": [
    "#Using only Open price as feature we are trying to predict the closing price of the stock as soon as the market opens for that day\n",
    "features = data[['Open']]\n",
    "target = data[['Adj Close']]"
   ]
  },
  {
   "cell_type": "code",
   "execution_count": 126,
   "id": "18e8f8c9",
   "metadata": {},
   "outputs": [
    {
     "name": "stdout",
     "output_type": "stream",
     "text": [
      "Enter the value for the 'Open' column: 48500.000\n"
     ]
    }
   ],
   "source": [
    "new_open_value = float(input(\"Enter the value for the 'Open' column: \"))  #this is bcoz when the market opens for the current\n",
    "                                                                          #day we have to put in the opening price so that we can\n",
    "                                                                          #predict the closing price of that day\n",
    "new_row = pd.DataFrame({'Open': [new_open_value]})\n",
    "features = pd.concat([features, new_row], ignore_index=True)  #we are putting the latest data into features and then scale the data\n",
    "                                                              #as we did when we trained the data. this is so that the model does\n",
    "                                                              #throw an error of shape"
   ]
  },
  {
   "cell_type": "code",
   "execution_count": 127,
   "id": "3b8d8d1d",
   "metadata": {},
   "outputs": [],
   "source": [
    "#Normalizing using minmaxscaler\n",
    "scaler = MinMaxScaler()\n",
    "features = scaler.fit_transform(features)\n",
    "target = scaler.fit_transform(target)"
   ]
  },
  {
   "cell_type": "code",
   "execution_count": 128,
   "id": "c61d81ac",
   "metadata": {},
   "outputs": [],
   "source": [
    "features = pd.DataFrame(features)\n",
    "target = pd.DataFrame(target)"
   ]
  },
  {
   "cell_type": "code",
   "execution_count": 129,
   "id": "f05eb7f9",
   "metadata": {},
   "outputs": [],
   "source": [
    "features = features.rename(columns = {0 : 'Open'})"
   ]
  },
  {
   "cell_type": "code",
   "execution_count": 130,
   "id": "7b75b4b2",
   "metadata": {},
   "outputs": [],
   "source": [
    "X = features.drop(features.tail(1).index) #this is just a dropping step i did when I was debugging the unscaling and reshaping error\n",
    "y = target"
   ]
  },
  {
   "cell_type": "code",
   "execution_count": 131,
   "id": "f78a92f6",
   "metadata": {},
   "outputs": [],
   "source": [
    "X = pd.DataFrame(X)\n",
    "y = pd.DataFrame(y)"
   ]
  },
  {
   "cell_type": "code",
   "execution_count": 132,
   "id": "d0f55234",
   "metadata": {},
   "outputs": [],
   "source": [
    "X = X.rename(columns = {0 : 'Open'})\n",
    "y = y.rename(columns = {0 : 'Close'})"
   ]
  },
  {
   "cell_type": "code",
   "execution_count": 133,
   "id": "3e829039",
   "metadata": {},
   "outputs": [
    {
     "data": {
      "text/html": [
       "<div>\n",
       "<style scoped>\n",
       "    .dataframe tbody tr th:only-of-type {\n",
       "        vertical-align: middle;\n",
       "    }\n",
       "\n",
       "    .dataframe tbody tr th {\n",
       "        vertical-align: top;\n",
       "    }\n",
       "\n",
       "    .dataframe thead th {\n",
       "        text-align: right;\n",
       "    }\n",
       "</style>\n",
       "<table border=\"1\" class=\"dataframe\">\n",
       "  <thead>\n",
       "    <tr style=\"text-align: right;\">\n",
       "      <th></th>\n",
       "      <th>Open</th>\n",
       "    </tr>\n",
       "  </thead>\n",
       "  <tbody>\n",
       "    <tr>\n",
       "      <th>0</th>\n",
       "      <td>0.077210</td>\n",
       "    </tr>\n",
       "    <tr>\n",
       "      <th>1</th>\n",
       "      <td>0.077719</td>\n",
       "    </tr>\n",
       "    <tr>\n",
       "      <th>2</th>\n",
       "      <td>0.081892</td>\n",
       "    </tr>\n",
       "    <tr>\n",
       "      <th>3</th>\n",
       "      <td>0.088353</td>\n",
       "    </tr>\n",
       "    <tr>\n",
       "      <th>4</th>\n",
       "      <td>0.087767</td>\n",
       "    </tr>\n",
       "    <tr>\n",
       "      <th>...</th>\n",
       "      <td>...</td>\n",
       "    </tr>\n",
       "    <tr>\n",
       "      <th>3785</th>\n",
       "      <td>0.998489</td>\n",
       "    </tr>\n",
       "    <tr>\n",
       "      <th>3786</th>\n",
       "      <td>1.000000</td>\n",
       "    </tr>\n",
       "    <tr>\n",
       "      <th>3787</th>\n",
       "      <td>0.995420</td>\n",
       "    </tr>\n",
       "    <tr>\n",
       "      <th>3788</th>\n",
       "      <td>0.981931</td>\n",
       "    </tr>\n",
       "    <tr>\n",
       "      <th>3789</th>\n",
       "      <td>0.968285</td>\n",
       "    </tr>\n",
       "  </tbody>\n",
       "</table>\n",
       "<p>3790 rows × 1 columns</p>\n",
       "</div>"
      ],
      "text/plain": [
       "          Open\n",
       "0     0.077210\n",
       "1     0.077719\n",
       "2     0.081892\n",
       "3     0.088353\n",
       "4     0.087767\n",
       "...        ...\n",
       "3785  0.998489\n",
       "3786  1.000000\n",
       "3787  0.995420\n",
       "3788  0.981931\n",
       "3789  0.968285\n",
       "\n",
       "[3790 rows x 1 columns]"
      ]
     },
     "execution_count": 133,
     "metadata": {},
     "output_type": "execute_result"
    }
   ],
   "source": [
    "X"
   ]
  },
  {
   "cell_type": "markdown",
   "id": "d6d53f57",
   "metadata": {},
   "source": [
    "# Models for predicting close price using open price of that same day"
   ]
  },
  {
   "cell_type": "code",
   "execution_count": 99,
   "id": "083079bb",
   "metadata": {},
   "outputs": [],
   "source": [
    "#splitting the features and target\n",
    "X_train, X_test, y_train, y_test = train_test_split(X, y, test_size=0.2, random_state=42)"
   ]
  },
  {
   "cell_type": "code",
   "execution_count": 100,
   "id": "f8743fde",
   "metadata": {},
   "outputs": [],
   "source": [
    "#we are using three ml models\n",
    "SVRmodel = SVR(kernel='rbf')\n",
    "LinRmodel = LinearRegression()\n",
    "RFmodel = RandomForestRegressor()"
   ]
  },
  {
   "cell_type": "code",
   "execution_count": 101,
   "id": "a55f7122",
   "metadata": {},
   "outputs": [
    {
     "name": "stderr",
     "output_type": "stream",
     "text": [
      "C:\\Users\\Admin\\anaconda3\\Lib\\site-packages\\sklearn\\utils\\validation.py:1184: DataConversionWarning: A column-vector y was passed when a 1d array was expected. Please change the shape of y to (n_samples, ), for example using ravel().\n",
      "  y = column_or_1d(y, warn=True)\n",
      "C:\\Users\\Admin\\anaconda3\\Lib\\site-packages\\sklearn\\base.py:1151: DataConversionWarning: A column-vector y was passed when a 1d array was expected. Please change the shape of y to (n_samples,), for example using ravel().\n",
      "  return fit_method(estimator, *args, **kwargs)\n"
     ]
    },
    {
     "data": {
      "text/html": [
       "<style>#sk-container-id-3 {color: black;}#sk-container-id-3 pre{padding: 0;}#sk-container-id-3 div.sk-toggleable {background-color: white;}#sk-container-id-3 label.sk-toggleable__label {cursor: pointer;display: block;width: 100%;margin-bottom: 0;padding: 0.3em;box-sizing: border-box;text-align: center;}#sk-container-id-3 label.sk-toggleable__label-arrow:before {content: \"▸\";float: left;margin-right: 0.25em;color: #696969;}#sk-container-id-3 label.sk-toggleable__label-arrow:hover:before {color: black;}#sk-container-id-3 div.sk-estimator:hover label.sk-toggleable__label-arrow:before {color: black;}#sk-container-id-3 div.sk-toggleable__content {max-height: 0;max-width: 0;overflow: hidden;text-align: left;background-color: #f0f8ff;}#sk-container-id-3 div.sk-toggleable__content pre {margin: 0.2em;color: black;border-radius: 0.25em;background-color: #f0f8ff;}#sk-container-id-3 input.sk-toggleable__control:checked~div.sk-toggleable__content {max-height: 200px;max-width: 100%;overflow: auto;}#sk-container-id-3 input.sk-toggleable__control:checked~label.sk-toggleable__label-arrow:before {content: \"▾\";}#sk-container-id-3 div.sk-estimator input.sk-toggleable__control:checked~label.sk-toggleable__label {background-color: #d4ebff;}#sk-container-id-3 div.sk-label input.sk-toggleable__control:checked~label.sk-toggleable__label {background-color: #d4ebff;}#sk-container-id-3 input.sk-hidden--visually {border: 0;clip: rect(1px 1px 1px 1px);clip: rect(1px, 1px, 1px, 1px);height: 1px;margin: -1px;overflow: hidden;padding: 0;position: absolute;width: 1px;}#sk-container-id-3 div.sk-estimator {font-family: monospace;background-color: #f0f8ff;border: 1px dotted black;border-radius: 0.25em;box-sizing: border-box;margin-bottom: 0.5em;}#sk-container-id-3 div.sk-estimator:hover {background-color: #d4ebff;}#sk-container-id-3 div.sk-parallel-item::after {content: \"\";width: 100%;border-bottom: 1px solid gray;flex-grow: 1;}#sk-container-id-3 div.sk-label:hover label.sk-toggleable__label {background-color: #d4ebff;}#sk-container-id-3 div.sk-serial::before {content: \"\";position: absolute;border-left: 1px solid gray;box-sizing: border-box;top: 0;bottom: 0;left: 50%;z-index: 0;}#sk-container-id-3 div.sk-serial {display: flex;flex-direction: column;align-items: center;background-color: white;padding-right: 0.2em;padding-left: 0.2em;position: relative;}#sk-container-id-3 div.sk-item {position: relative;z-index: 1;}#sk-container-id-3 div.sk-parallel {display: flex;align-items: stretch;justify-content: center;background-color: white;position: relative;}#sk-container-id-3 div.sk-item::before, #sk-container-id-3 div.sk-parallel-item::before {content: \"\";position: absolute;border-left: 1px solid gray;box-sizing: border-box;top: 0;bottom: 0;left: 50%;z-index: -1;}#sk-container-id-3 div.sk-parallel-item {display: flex;flex-direction: column;z-index: 1;position: relative;background-color: white;}#sk-container-id-3 div.sk-parallel-item:first-child::after {align-self: flex-end;width: 50%;}#sk-container-id-3 div.sk-parallel-item:last-child::after {align-self: flex-start;width: 50%;}#sk-container-id-3 div.sk-parallel-item:only-child::after {width: 0;}#sk-container-id-3 div.sk-dashed-wrapped {border: 1px dashed gray;margin: 0 0.4em 0.5em 0.4em;box-sizing: border-box;padding-bottom: 0.4em;background-color: white;}#sk-container-id-3 div.sk-label label {font-family: monospace;font-weight: bold;display: inline-block;line-height: 1.2em;}#sk-container-id-3 div.sk-label-container {text-align: center;}#sk-container-id-3 div.sk-container {/* jupyter's `normalize.less` sets `[hidden] { display: none; }` but bootstrap.min.css set `[hidden] { display: none !important; }` so we also need the `!important` here to be able to override the default hidden behavior on the sphinx rendered scikit-learn.org. See: https://github.com/scikit-learn/scikit-learn/issues/21755 */display: inline-block !important;position: relative;}#sk-container-id-3 div.sk-text-repr-fallback {display: none;}</style><div id=\"sk-container-id-3\" class=\"sk-top-container\"><div class=\"sk-text-repr-fallback\"><pre>RandomForestRegressor()</pre><b>In a Jupyter environment, please rerun this cell to show the HTML representation or trust the notebook. <br />On GitHub, the HTML representation is unable to render, please try loading this page with nbviewer.org.</b></div><div class=\"sk-container\" hidden><div class=\"sk-item\"><div class=\"sk-estimator sk-toggleable\"><input class=\"sk-toggleable__control sk-hidden--visually\" id=\"sk-estimator-id-3\" type=\"checkbox\" checked><label for=\"sk-estimator-id-3\" class=\"sk-toggleable__label sk-toggleable__label-arrow\">RandomForestRegressor</label><div class=\"sk-toggleable__content\"><pre>RandomForestRegressor()</pre></div></div></div></div></div>"
      ],
      "text/plain": [
       "RandomForestRegressor()"
      ]
     },
     "execution_count": 101,
     "metadata": {},
     "output_type": "execute_result"
    }
   ],
   "source": [
    "#fitting the data\n",
    "SVRmodel.fit(X_train, y_train)\n",
    "LinRmodel.fit(X_train, y_train)\n",
    "RFmodel.fit(X_train, y_train)"
   ]
  },
  {
   "cell_type": "code",
   "execution_count": 102,
   "id": "c0479029",
   "metadata": {},
   "outputs": [],
   "source": [
    "#predicting\n",
    "SVRpred = SVRmodel.predict(X_test)\n",
    "LinRpred = LinRmodel.predict(X_test)\n",
    "RFpred = RFmodel.predict(X_test)"
   ]
  },
  {
   "cell_type": "markdown",
   "id": "6e463268",
   "metadata": {},
   "source": [
    "# Metrics section"
   ]
  },
  {
   "cell_type": "code",
   "execution_count": 104,
   "id": "fffeaf4d",
   "metadata": {},
   "outputs": [
    {
     "name": "stdout",
     "output_type": "stream",
     "text": [
      "Mean Squared Error for SVR: 0.0028656860157231625\n",
      "Mean Squared Error for LinR: 3.0088211149893455e-05\n",
      "Mean Squared Error for RF: 4.688199601356447e-05\n"
     ]
    }
   ],
   "source": [
    "SVRmse = mean_squared_error(y_test, SVRpred)\n",
    "print(\"Mean Squared Error for SVR:\", SVRmse)\n",
    "LinRmse = mean_squared_error(y_test, LinRpred)\n",
    "print(\"Mean Squared Error for LinR:\", LinRmse)\n",
    "RFmse = mean_squared_error(y_test, RFpred)\n",
    "print(\"Mean Squared Error for RF:\", RFmse)\n",
    "#the mse for SVR looks really high in comparison to linear reg and RF. The mse is in x^-05 bcoz we are calculating it on the scaled data"
   ]
  },
  {
   "cell_type": "markdown",
   "id": "3d980ec9",
   "metadata": {},
   "source": [
    "##### lets Try Neural Networks or deep learning"
   ]
  },
  {
   "cell_type": "code",
   "execution_count": 105,
   "id": "b16cbdac",
   "metadata": {},
   "outputs": [],
   "source": [
    "import tensorflow as tf\n",
    "from tensorflow.keras.models import Sequential\n",
    "from tensorflow.keras.layers import Dense"
   ]
  },
  {
   "cell_type": "code",
   "execution_count": 106,
   "id": "d5f785bc",
   "metadata": {},
   "outputs": [],
   "source": [
    "NNX_train, X_rem, NNy_train, y_rem = train_test_split(X, y, test_size=0.2, random_state=42)\n",
    "NNX_val, NNX_test, NNy_val, NNy_test = train_test_split(X_rem, y_rem, test_size=0.5, random_state=42)"
   ]
  },
  {
   "cell_type": "code",
   "execution_count": 107,
   "id": "cdebfd0d",
   "metadata": {},
   "outputs": [],
   "source": [
    "NNmodel = Sequential([\n",
    "    Dense(64, activation='relu', input_shape=(X.shape[1],)),\n",
    "    Dense(64, activation='relu'),\n",
    "    Dense(1)  # Output layer for regression\n",
    "])"
   ]
  },
  {
   "cell_type": "code",
   "execution_count": 108,
   "id": "8529daab",
   "metadata": {},
   "outputs": [
    {
     "name": "stdout",
     "output_type": "stream",
     "text": [
      "Epoch 1/50\n",
      "95/95 [==============================] - 1s 5ms/step - loss: 0.0293 - val_loss: 1.3837e-04\n",
      "Epoch 2/50\n",
      "95/95 [==============================] - 0s 2ms/step - loss: 1.0067e-04 - val_loss: 9.9072e-05\n",
      "Epoch 3/50\n",
      "95/95 [==============================] - 0s 3ms/step - loss: 7.0594e-05 - val_loss: 6.2792e-05\n",
      "Epoch 4/50\n",
      "95/95 [==============================] - 0s 3ms/step - loss: 5.6638e-05 - val_loss: 4.9877e-05\n",
      "Epoch 5/50\n",
      "95/95 [==============================] - 0s 3ms/step - loss: 4.7528e-05 - val_loss: 4.1407e-05\n",
      "Epoch 6/50\n",
      "95/95 [==============================] - 0s 2ms/step - loss: 4.4330e-05 - val_loss: 3.2328e-05\n",
      "Epoch 7/50\n",
      "95/95 [==============================] - 0s 2ms/step - loss: 3.9030e-05 - val_loss: 3.2128e-05\n",
      "Epoch 8/50\n",
      "95/95 [==============================] - 0s 3ms/step - loss: 3.8413e-05 - val_loss: 3.1079e-05\n",
      "Epoch 9/50\n",
      "95/95 [==============================] - 0s 3ms/step - loss: 3.8062e-05 - val_loss: 3.0122e-05\n",
      "Epoch 10/50\n",
      "95/95 [==============================] - 0s 3ms/step - loss: 4.0410e-05 - val_loss: 3.0155e-05\n",
      "Epoch 11/50\n",
      "95/95 [==============================] - 0s 3ms/step - loss: 3.9475e-05 - val_loss: 3.0292e-05\n",
      "Epoch 12/50\n",
      "95/95 [==============================] - 0s 2ms/step - loss: 3.8856e-05 - val_loss: 3.2867e-05\n",
      "Epoch 13/50\n",
      "95/95 [==============================] - 0s 2ms/step - loss: 3.8774e-05 - val_loss: 3.4633e-05\n",
      "Epoch 14/50\n",
      "95/95 [==============================] - 0s 2ms/step - loss: 4.0125e-05 - val_loss: 3.4737e-05\n",
      "Epoch 15/50\n",
      "95/95 [==============================] - 0s 2ms/step - loss: 4.1194e-05 - val_loss: 2.9819e-05\n",
      "Epoch 16/50\n",
      "95/95 [==============================] - 0s 2ms/step - loss: 3.8656e-05 - val_loss: 2.9744e-05\n",
      "Epoch 17/50\n",
      "95/95 [==============================] - 0s 2ms/step - loss: 3.9404e-05 - val_loss: 3.2464e-05\n",
      "Epoch 18/50\n",
      "95/95 [==============================] - 0s 2ms/step - loss: 3.8512e-05 - val_loss: 2.9593e-05\n",
      "Epoch 19/50\n",
      "95/95 [==============================] - 0s 2ms/step - loss: 3.8648e-05 - val_loss: 3.4612e-05\n",
      "Epoch 20/50\n",
      "95/95 [==============================] - 0s 2ms/step - loss: 3.9007e-05 - val_loss: 3.6210e-05\n",
      "Epoch 21/50\n",
      "95/95 [==============================] - 0s 2ms/step - loss: 3.7756e-05 - val_loss: 3.1074e-05\n",
      "Epoch 22/50\n",
      "95/95 [==============================] - 0s 3ms/step - loss: 4.1416e-05 - val_loss: 3.1669e-05\n",
      "Epoch 23/50\n",
      "95/95 [==============================] - 0s 3ms/step - loss: 3.8385e-05 - val_loss: 2.9806e-05\n",
      "Epoch 24/50\n",
      "95/95 [==============================] - 0s 2ms/step - loss: 3.8101e-05 - val_loss: 3.2076e-05\n",
      "Epoch 25/50\n",
      "95/95 [==============================] - 0s 3ms/step - loss: 3.8598e-05 - val_loss: 3.7593e-05\n",
      "Epoch 26/50\n",
      "95/95 [==============================] - 0s 2ms/step - loss: 4.0300e-05 - val_loss: 4.3727e-05\n",
      "Epoch 27/50\n",
      "95/95 [==============================] - 0s 2ms/step - loss: 4.5291e-05 - val_loss: 3.0299e-05\n",
      "Epoch 28/50\n",
      "95/95 [==============================] - 0s 2ms/step - loss: 4.3797e-05 - val_loss: 2.9783e-05\n",
      "Epoch 29/50\n",
      "95/95 [==============================] - 0s 2ms/step - loss: 3.9441e-05 - val_loss: 4.4186e-05\n",
      "Epoch 30/50\n",
      "95/95 [==============================] - 0s 2ms/step - loss: 3.9732e-05 - val_loss: 2.9423e-05\n",
      "Epoch 31/50\n",
      "95/95 [==============================] - 0s 3ms/step - loss: 4.3698e-05 - val_loss: 9.3571e-05\n",
      "Epoch 32/50\n",
      "95/95 [==============================] - 0s 2ms/step - loss: 4.6439e-05 - val_loss: 3.1205e-05\n",
      "Epoch 33/50\n",
      "95/95 [==============================] - 0s 2ms/step - loss: 4.1279e-05 - val_loss: 3.2462e-05\n",
      "Epoch 34/50\n",
      "95/95 [==============================] - 0s 2ms/step - loss: 3.8740e-05 - val_loss: 3.0267e-05\n",
      "Epoch 35/50\n",
      "95/95 [==============================] - 0s 2ms/step - loss: 3.9634e-05 - val_loss: 3.8254e-05\n",
      "Epoch 36/50\n",
      "95/95 [==============================] - 0s 2ms/step - loss: 3.8545e-05 - val_loss: 3.3556e-05\n",
      "Epoch 37/50\n",
      "95/95 [==============================] - 0s 2ms/step - loss: 4.2950e-05 - val_loss: 5.4106e-05\n",
      "Epoch 38/50\n",
      "95/95 [==============================] - 0s 2ms/step - loss: 4.3677e-05 - val_loss: 2.9851e-05\n",
      "Epoch 39/50\n",
      "95/95 [==============================] - 0s 2ms/step - loss: 4.4989e-05 - val_loss: 4.0076e-05\n",
      "Epoch 40/50\n",
      "95/95 [==============================] - 0s 2ms/step - loss: 4.2717e-05 - val_loss: 3.0531e-05\n",
      "Epoch 41/50\n",
      "95/95 [==============================] - 0s 2ms/step - loss: 4.4728e-05 - val_loss: 2.9874e-05\n",
      "Epoch 42/50\n",
      "95/95 [==============================] - 0s 2ms/step - loss: 4.0867e-05 - val_loss: 3.3703e-05\n",
      "Epoch 43/50\n",
      "95/95 [==============================] - 0s 2ms/step - loss: 3.9433e-05 - val_loss: 5.2475e-05\n",
      "Epoch 44/50\n",
      "95/95 [==============================] - 0s 2ms/step - loss: 4.7750e-05 - val_loss: 2.9766e-05\n",
      "Epoch 45/50\n",
      "95/95 [==============================] - 0s 2ms/step - loss: 4.2288e-05 - val_loss: 3.2688e-05\n",
      "Epoch 46/50\n",
      "95/95 [==============================] - 0s 2ms/step - loss: 4.3681e-05 - val_loss: 3.5228e-05\n",
      "Epoch 47/50\n",
      "95/95 [==============================] - 0s 2ms/step - loss: 4.3154e-05 - val_loss: 3.0031e-05\n",
      "Epoch 48/50\n",
      "95/95 [==============================] - 0s 3ms/step - loss: 4.1491e-05 - val_loss: 2.9510e-05\n",
      "Epoch 49/50\n",
      "95/95 [==============================] - 0s 2ms/step - loss: 4.4656e-05 - val_loss: 3.3360e-05\n",
      "Epoch 50/50\n",
      "95/95 [==============================] - 0s 2ms/step - loss: 4.3362e-05 - val_loss: 3.3167e-05\n"
     ]
    },
    {
     "data": {
      "text/plain": [
       "<keras.src.callbacks.History at 0x16e05907710>"
      ]
     },
     "execution_count": 108,
     "metadata": {},
     "output_type": "execute_result"
    }
   ],
   "source": [
    "NNmodel.compile(optimizer='adam', loss='mean_squared_error')\n",
    "NNmodel.fit(NNX_train, NNy_train, epochs=50, batch_size=32, validation_data=(NNX_val, NNy_val))"
   ]
  },
  {
   "cell_type": "code",
   "execution_count": 109,
   "id": "0f71231d",
   "metadata": {},
   "outputs": [
    {
     "name": "stdout",
     "output_type": "stream",
     "text": [
      "12/12 [==============================] - 0s 2ms/step - loss: 3.9329e-05\n",
      "Mean Squared Error: 3.932917024940252e-05\n"
     ]
    }
   ],
   "source": [
    "loss = NNmodel.evaluate(NNX_test, NNy_test)\n",
    "print(\"Mean Squared Error:\", loss)"
   ]
  },
  {
   "cell_type": "code",
   "execution_count": 110,
   "id": "32f67e00",
   "metadata": {},
   "outputs": [
    {
     "name": "stdout",
     "output_type": "stream",
     "text": [
      "24/24 [==============================] - 0s 2ms/step\n",
      "Mean Squared Error for NN: 3.62482426233227e-05\n"
     ]
    }
   ],
   "source": [
    "NNpred = NNmodel.predict(X_test)\n",
    "NNmse = mean_squared_error(y_test, NNpred)\n",
    "print(\"Mean Squared Error for NN:\", NNmse)"
   ]
  },
  {
   "cell_type": "markdown",
   "id": "4d110b58",
   "metadata": {},
   "source": [
    "## FOR PREDICTING ON RECENT DATA"
   ]
  },
  {
   "cell_type": "code",
   "execution_count": 135,
   "id": "ad9ef275",
   "metadata": {},
   "outputs": [
    {
     "data": {
      "text/html": [
       "<div>\n",
       "<style scoped>\n",
       "    .dataframe tbody tr th:only-of-type {\n",
       "        vertical-align: middle;\n",
       "    }\n",
       "\n",
       "    .dataframe tbody tr th {\n",
       "        vertical-align: top;\n",
       "    }\n",
       "\n",
       "    .dataframe thead th {\n",
       "        text-align: right;\n",
       "    }\n",
       "</style>\n",
       "<table border=\"1\" class=\"dataframe\">\n",
       "  <thead>\n",
       "    <tr style=\"text-align: right;\">\n",
       "      <th></th>\n",
       "      <th>Open</th>\n",
       "    </tr>\n",
       "  </thead>\n",
       "  <tbody>\n",
       "    <tr>\n",
       "      <th>3790</th>\n",
       "      <td>0.991657</td>\n",
       "    </tr>\n",
       "  </tbody>\n",
       "</table>\n",
       "</div>"
      ],
      "text/plain": [
       "          Open\n",
       "3790  0.991657"
      ]
     },
     "execution_count": 135,
     "metadata": {},
     "output_type": "execute_result"
    }
   ],
   "source": [
    "latest_open = features.loc[len(features)-1:]\n",
    "latest_open #here we split the last row into latest_open to predict the live data."
   ]
  },
  {
   "cell_type": "code",
   "execution_count": 117,
   "id": "ef3094f4",
   "metadata": {},
   "outputs": [
    {
     "data": {
      "text/html": [
       "<div>\n",
       "<style scoped>\n",
       "    .dataframe tbody tr th:only-of-type {\n",
       "        vertical-align: middle;\n",
       "    }\n",
       "\n",
       "    .dataframe tbody tr th {\n",
       "        vertical-align: top;\n",
       "    }\n",
       "\n",
       "    .dataframe thead th {\n",
       "        text-align: right;\n",
       "    }\n",
       "</style>\n",
       "<table border=\"1\" class=\"dataframe\">\n",
       "  <thead>\n",
       "    <tr style=\"text-align: right;\">\n",
       "      <th></th>\n",
       "      <th>Open</th>\n",
       "      <th>High</th>\n",
       "      <th>Low</th>\n",
       "      <th>Close</th>\n",
       "      <th>Adj Close</th>\n",
       "      <th>Volume</th>\n",
       "    </tr>\n",
       "    <tr>\n",
       "      <th>Date</th>\n",
       "      <th></th>\n",
       "      <th></th>\n",
       "      <th></th>\n",
       "      <th></th>\n",
       "      <th></th>\n",
       "      <th></th>\n",
       "    </tr>\n",
       "  </thead>\n",
       "  <tbody>\n",
       "    <tr>\n",
       "      <th>2007-09-17</th>\n",
       "      <td>6898.000000</td>\n",
       "      <td>6977.200195</td>\n",
       "      <td>6843.000000</td>\n",
       "      <td>6897.100098</td>\n",
       "      <td>6897.020020</td>\n",
       "      <td>0</td>\n",
       "    </tr>\n",
       "    <tr>\n",
       "      <th>2007-09-18</th>\n",
       "      <td>6921.149902</td>\n",
       "      <td>7078.950195</td>\n",
       "      <td>6883.600098</td>\n",
       "      <td>7059.649902</td>\n",
       "      <td>7059.567871</td>\n",
       "      <td>0</td>\n",
       "    </tr>\n",
       "    <tr>\n",
       "      <th>2007-09-19</th>\n",
       "      <td>7111.000000</td>\n",
       "      <td>7419.350098</td>\n",
       "      <td>7111.000000</td>\n",
       "      <td>7401.850098</td>\n",
       "      <td>7401.764160</td>\n",
       "      <td>0</td>\n",
       "    </tr>\n",
       "    <tr>\n",
       "      <th>2007-09-20</th>\n",
       "      <td>7404.950195</td>\n",
       "      <td>7462.899902</td>\n",
       "      <td>7343.600098</td>\n",
       "      <td>7390.149902</td>\n",
       "      <td>7390.063965</td>\n",
       "      <td>0</td>\n",
       "    </tr>\n",
       "    <tr>\n",
       "      <th>2007-09-21</th>\n",
       "      <td>7378.299805</td>\n",
       "      <td>7506.350098</td>\n",
       "      <td>7367.149902</td>\n",
       "      <td>7464.500000</td>\n",
       "      <td>7464.413086</td>\n",
       "      <td>0</td>\n",
       "    </tr>\n",
       "    <tr>\n",
       "      <th>...</th>\n",
       "      <td>...</td>\n",
       "      <td>...</td>\n",
       "      <td>...</td>\n",
       "      <td>...</td>\n",
       "      <td>...</td>\n",
       "      <td>...</td>\n",
       "    </tr>\n",
       "    <tr>\n",
       "      <th>2024-04-09</th>\n",
       "      <td>48810.800781</td>\n",
       "      <td>48960.750000</td>\n",
       "      <td>48568.250000</td>\n",
       "      <td>48730.550781</td>\n",
       "      <td>48730.550781</td>\n",
       "      <td>147600</td>\n",
       "    </tr>\n",
       "    <tr>\n",
       "      <th>2024-04-10</th>\n",
       "      <td>48879.550781</td>\n",
       "      <td>49057.398438</td>\n",
       "      <td>48669.250000</td>\n",
       "      <td>48986.601562</td>\n",
       "      <td>48986.601562</td>\n",
       "      <td>247100</td>\n",
       "    </tr>\n",
       "    <tr>\n",
       "      <th>2024-04-12</th>\n",
       "      <td>48671.199219</td>\n",
       "      <td>48882.648438</td>\n",
       "      <td>48477.550781</td>\n",
       "      <td>48564.550781</td>\n",
       "      <td>48564.550781</td>\n",
       "      <td>208000</td>\n",
       "    </tr>\n",
       "    <tr>\n",
       "      <th>2024-04-15</th>\n",
       "      <td>48057.500000</td>\n",
       "      <td>48255.500000</td>\n",
       "      <td>47725.800781</td>\n",
       "      <td>47773.250000</td>\n",
       "      <td>47773.250000</td>\n",
       "      <td>197100</td>\n",
       "    </tr>\n",
       "    <tr>\n",
       "      <th>2024-04-16</th>\n",
       "      <td>47436.699219</td>\n",
       "      <td>47609.000000</td>\n",
       "      <td>47316.550781</td>\n",
       "      <td>47484.800781</td>\n",
       "      <td>47484.800781</td>\n",
       "      <td>0</td>\n",
       "    </tr>\n",
       "  </tbody>\n",
       "</table>\n",
       "<p>3790 rows × 6 columns</p>\n",
       "</div>"
      ],
      "text/plain": [
       "                    Open          High           Low         Close  \\\n",
       "Date                                                                 \n",
       "2007-09-17   6898.000000   6977.200195   6843.000000   6897.100098   \n",
       "2007-09-18   6921.149902   7078.950195   6883.600098   7059.649902   \n",
       "2007-09-19   7111.000000   7419.350098   7111.000000   7401.850098   \n",
       "2007-09-20   7404.950195   7462.899902   7343.600098   7390.149902   \n",
       "2007-09-21   7378.299805   7506.350098   7367.149902   7464.500000   \n",
       "...                  ...           ...           ...           ...   \n",
       "2024-04-09  48810.800781  48960.750000  48568.250000  48730.550781   \n",
       "2024-04-10  48879.550781  49057.398438  48669.250000  48986.601562   \n",
       "2024-04-12  48671.199219  48882.648438  48477.550781  48564.550781   \n",
       "2024-04-15  48057.500000  48255.500000  47725.800781  47773.250000   \n",
       "2024-04-16  47436.699219  47609.000000  47316.550781  47484.800781   \n",
       "\n",
       "               Adj Close  Volume  \n",
       "Date                              \n",
       "2007-09-17   6897.020020       0  \n",
       "2007-09-18   7059.567871       0  \n",
       "2007-09-19   7401.764160       0  \n",
       "2007-09-20   7390.063965       0  \n",
       "2007-09-21   7464.413086       0  \n",
       "...                  ...     ...  \n",
       "2024-04-09  48730.550781  147600  \n",
       "2024-04-10  48986.601562  247100  \n",
       "2024-04-12  48564.550781  208000  \n",
       "2024-04-15  47773.250000  197100  \n",
       "2024-04-16  47484.800781       0  \n",
       "\n",
       "[3790 rows x 6 columns]"
      ]
     },
     "execution_count": 117,
     "metadata": {},
     "output_type": "execute_result"
    }
   ],
   "source": [
    "data"
   ]
  },
  {
   "cell_type": "code",
   "execution_count": 136,
   "id": "75adad06",
   "metadata": {},
   "outputs": [
    {
     "data": {
      "text/html": [
       "<div>\n",
       "<style scoped>\n",
       "    .dataframe tbody tr th:only-of-type {\n",
       "        vertical-align: middle;\n",
       "    }\n",
       "\n",
       "    .dataframe tbody tr th {\n",
       "        vertical-align: top;\n",
       "    }\n",
       "\n",
       "    .dataframe thead th {\n",
       "        text-align: right;\n",
       "    }\n",
       "</style>\n",
       "<table border=\"1\" class=\"dataframe\">\n",
       "  <thead>\n",
       "    <tr style=\"text-align: right;\">\n",
       "      <th></th>\n",
       "      <th>0</th>\n",
       "    </tr>\n",
       "  </thead>\n",
       "  <tbody>\n",
       "    <tr>\n",
       "      <th>0</th>\n",
       "      <td>48424.478477</td>\n",
       "    </tr>\n",
       "  </tbody>\n",
       "</table>\n",
       "</div>"
      ],
      "text/plain": [
       "              0\n",
       "0  48424.478477"
      ]
     },
     "execution_count": 136,
     "metadata": {},
     "output_type": "execute_result"
    }
   ],
   "source": [
    "RFpredictionLive = RFmodel.predict(latest_open)\n",
    "RFpredictionLive = RFpredictionLive.reshape(latest_open.shape)\n",
    "RFprediction_unscaled = scaler.inverse_transform(RFpredictionLive)\n",
    "RFprediction_unscaled = pd.DataFrame(RFprediction_unscaled)\n",
    "RFprediction_unscaled"
   ]
  },
  {
   "cell_type": "code",
   "execution_count": 137,
   "id": "86cb921d",
   "metadata": {},
   "outputs": [
    {
     "data": {
      "text/html": [
       "<div>\n",
       "<style scoped>\n",
       "    .dataframe tbody tr th:only-of-type {\n",
       "        vertical-align: middle;\n",
       "    }\n",
       "\n",
       "    .dataframe tbody tr th {\n",
       "        vertical-align: top;\n",
       "    }\n",
       "\n",
       "    .dataframe thead th {\n",
       "        text-align: right;\n",
       "    }\n",
       "</style>\n",
       "<table border=\"1\" class=\"dataframe\">\n",
       "  <thead>\n",
       "    <tr style=\"text-align: right;\">\n",
       "      <th></th>\n",
       "      <th>0</th>\n",
       "    </tr>\n",
       "  </thead>\n",
       "  <tbody>\n",
       "    <tr>\n",
       "      <th>0</th>\n",
       "      <td>48473.489697</td>\n",
       "    </tr>\n",
       "  </tbody>\n",
       "</table>\n",
       "</div>"
      ],
      "text/plain": [
       "              0\n",
       "0  48473.489697"
      ]
     },
     "execution_count": 137,
     "metadata": {},
     "output_type": "execute_result"
    }
   ],
   "source": [
    "LinRpredictionLive = LinRmodel.predict(latest_open)\n",
    "LinRpredictionLive = LinRpredictionLive.reshape(latest_open.shape)\n",
    "LinRpredictionLive_unscaled = scaler.inverse_transform(LinRpredictionLive)\n",
    "LinRpredictionLive_unscaled = pd.DataFrame(LinRpredictionLive_unscaled)\n",
    "LinRpredictionLive_unscaled"
   ]
  },
  {
   "cell_type": "code",
   "execution_count": 138,
   "id": "952381c0",
   "metadata": {},
   "outputs": [
    {
     "data": {
      "text/html": [
       "<div>\n",
       "<style scoped>\n",
       "    .dataframe tbody tr th:only-of-type {\n",
       "        vertical-align: middle;\n",
       "    }\n",
       "\n",
       "    .dataframe tbody tr th {\n",
       "        vertical-align: top;\n",
       "    }\n",
       "\n",
       "    .dataframe thead th {\n",
       "        text-align: right;\n",
       "    }\n",
       "</style>\n",
       "<table border=\"1\" class=\"dataframe\">\n",
       "  <thead>\n",
       "    <tr style=\"text-align: right;\">\n",
       "      <th></th>\n",
       "      <th>0</th>\n",
       "    </tr>\n",
       "  </thead>\n",
       "  <tbody>\n",
       "    <tr>\n",
       "      <th>0</th>\n",
       "      <td>44429.174272</td>\n",
       "    </tr>\n",
       "  </tbody>\n",
       "</table>\n",
       "</div>"
      ],
      "text/plain": [
       "              0\n",
       "0  44429.174272"
      ]
     },
     "execution_count": 138,
     "metadata": {},
     "output_type": "execute_result"
    }
   ],
   "source": [
    "SVRpredictionLive = SVRmodel.predict(latest_open)\n",
    "SVRpredictionLive = SVRpredictionLive.reshape(latest_open.shape)\n",
    "SVRprediction_unscaled = scaler.inverse_transform(SVRpredictionLive)\n",
    "SVRprediction_unscaled = pd.DataFrame(SVRprediction_unscaled)\n",
    "SVRprediction_unscaled"
   ]
  },
  {
   "cell_type": "code",
   "execution_count": 140,
   "id": "24f45ff2",
   "metadata": {},
   "outputs": [
    {
     "name": "stdout",
     "output_type": "stream",
     "text": [
      "1/1 [==============================] - 0s 26ms/step\n"
     ]
    },
    {
     "data": {
      "text/html": [
       "<div>\n",
       "<style scoped>\n",
       "    .dataframe tbody tr th:only-of-type {\n",
       "        vertical-align: middle;\n",
       "    }\n",
       "\n",
       "    .dataframe tbody tr th {\n",
       "        vertical-align: top;\n",
       "    }\n",
       "\n",
       "    .dataframe thead th {\n",
       "        text-align: right;\n",
       "    }\n",
       "</style>\n",
       "<table border=\"1\" class=\"dataframe\">\n",
       "  <thead>\n",
       "    <tr style=\"text-align: right;\">\n",
       "      <th></th>\n",
       "      <th>0</th>\n",
       "    </tr>\n",
       "  </thead>\n",
       "  <tbody>\n",
       "    <tr>\n",
       "      <th>0</th>\n",
       "      <td>48184.816406</td>\n",
       "    </tr>\n",
       "  </tbody>\n",
       "</table>\n",
       "</div>"
      ],
      "text/plain": [
       "              0\n",
       "0  48184.816406"
      ]
     },
     "execution_count": 140,
     "metadata": {},
     "output_type": "execute_result"
    }
   ],
   "source": [
    "NNpredictionLive = NNmodel.predict(latest_open)\n",
    "NNpredictionLive = NNpredictionLive.reshape(latest_open.shape)\n",
    "NNprediction_unscaled = scaler.inverse_transform(NNpredictionLive)\n",
    "NNprediction_unscaled = pd.DataFrame(NNprediction_unscaled)\n",
    "NNprediction_unscaled"
   ]
  },
  {
   "cell_type": "markdown",
   "id": "8ee4aefd",
   "metadata": {},
   "source": [
    "# as we can observe lin reg, random forest and neural network all give results nearer to each other while SVR performed the worst"
   ]
  },
  {
   "cell_type": "code",
   "execution_count": null,
   "id": "c8fc41d2",
   "metadata": {},
   "outputs": [],
   "source": []
  }
 ],
 "metadata": {
  "kernelspec": {
   "display_name": "Python 3 (ipykernel)",
   "language": "python",
   "name": "python3"
  },
  "language_info": {
   "codemirror_mode": {
    "name": "ipython",
    "version": 3
   },
   "file_extension": ".py",
   "mimetype": "text/x-python",
   "name": "python",
   "nbconvert_exporter": "python",
   "pygments_lexer": "ipython3",
   "version": "3.11.5"
  }
 },
 "nbformat": 4,
 "nbformat_minor": 5
}
